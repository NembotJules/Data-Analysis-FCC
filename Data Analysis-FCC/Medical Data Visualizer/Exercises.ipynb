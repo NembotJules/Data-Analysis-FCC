{
 "cells": [
  {
   "cell_type": "markdown",
   "id": "bf89bef1",
   "metadata": {},
   "source": [
    "# <font color=\"black\"> Medical-Data-Visualizer</font>\n",
    "This project come from the \"Data Analysis with Python\" certification you can see it here https://www.freecodecamp.org/learn/data-analysis-with-python/data-analysis-with-python-projects/medical-data-visualizer"
   ]
  },
  {
   "cell_type": "markdown",
   "id": "196313de",
   "metadata": {},
   "source": [
    "## <font color = \"black\">Step 1. Import the necessary libraries</font>"
   ]
  },
  {
   "cell_type": "code",
   "execution_count": null,
   "id": "d3eb1f85",
   "metadata": {},
   "outputs": [],
   "source": []
  },
  {
   "cell_type": "markdown",
   "id": "73a7cc6e",
   "metadata": {},
   "source": [
    "## <font color = \"black\">Step 2. Import the Dataset it will be in the folder</font>"
   ]
  },
  {
   "cell_type": "code",
   "execution_count": null,
   "id": "5c64cc77",
   "metadata": {},
   "outputs": [],
   "source": []
  },
  {
   "cell_type": "markdown",
   "id": "8f806540",
   "metadata": {},
   "source": [
    "## <font color = \"black\">Step 3. Add an overweight column to the data</font>\n",
    "To determine if a person is overweight, first calculate their BMI by dividing their weight in kilograms by the square of their height in meters. If that value is > 25 then the person is overweight. Use the value 0 for NOT overweight and the value 1 for overweight."
   ]
  },
  {
   "cell_type": "code",
   "execution_count": null,
   "id": "0ccb3726",
   "metadata": {},
   "outputs": [],
   "source": []
  },
  {
   "cell_type": "markdown",
   "id": "30efd756",
   "metadata": {},
   "source": [
    "## <font color = \"black\">Step 4. Normalize the data by making 0 always good and 1 always bad</font>\n",
    "If the value of cholesterol or gluc is 1, make the value 0. If the value is more than 1, make the value 1."
   ]
  },
  {
   "cell_type": "code",
   "execution_count": null,
   "id": "38e6cd05",
   "metadata": {},
   "outputs": [],
   "source": []
  },
  {
   "cell_type": "markdown",
   "id": "f5140010",
   "metadata": {},
   "source": [
    "## <font color = \"black\">Step 5. transform data into a long format, which makes it easier to analyze and visualize.</font>\n",
    "The 'cardio' column will be used as the identifier variable and will remain as a column in the reshaped dataframe"
   ]
  },
  {
   "cell_type": "code",
   "execution_count": null,
   "id": "a6db96e0",
   "metadata": {},
   "outputs": [],
   "source": []
  },
  {
   "cell_type": "markdown",
   "id": "720b7c22",
   "metadata": {},
   "source": [
    "## <font color = \"black\">Step 6. create a chart that shows the value counts of the categorical features using seaborn's catplot().</font>\n",
    "The dataset should be split by 'Cardio' so there is one chart for each cardio value. I will leave an image reference in the folder"
   ]
  },
  {
   "cell_type": "code",
   "execution_count": null,
   "id": "787fc6d6",
   "metadata": {},
   "outputs": [],
   "source": []
  },
  {
   "cell_type": "markdown",
   "id": "149e0b0e",
   "metadata": {},
   "source": [
    "## <font color = \"black\">Step 7.Clean the data .</font>\n",
    "Filter out the following patient segments that represent incorrect data:\n",
    "diastolic pressure is higher than systolic <br>(Keep the correct data with (df['ap_lo'] <= df['ap_hi']))<br>\n",
    "height is less than the 2.5th percentile (Keep the correct data with (df['height'] >= df['height'].quantile(0.025)))<br>\n",
    "height is more than the 97.5th percentile<br>\n",
    "weight is less than the 2.5th percentile<br>\n",
    "weight is more than the 97.5th percentile"
   ]
  },
  {
   "cell_type": "code",
   "execution_count": null,
   "id": "56877551",
   "metadata": {},
   "outputs": [],
   "source": []
  },
  {
   "cell_type": "markdown",
   "id": "9319211c",
   "metadata": {},
   "source": [
    "## <font color = \"black\">Step 8.Create a correlation matrix using the dataset .</font>"
   ]
  },
  {
   "cell_type": "code",
   "execution_count": null,
   "id": "59ca2549",
   "metadata": {},
   "outputs": [],
   "source": []
  },
  {
   "cell_type": "markdown",
   "id": "4e61fca7",
   "metadata": {},
   "source": [
    "## <font color = \"black\">Step 9.Creating the mask for the upper triangle of the correlation matrix .</font>"
   ]
  },
  {
   "cell_type": "code",
   "execution_count": null,
   "id": "761f758d",
   "metadata": {},
   "outputs": [],
   "source": []
  },
  {
   "cell_type": "markdown",
   "id": "27f2c3f9",
   "metadata": {},
   "source": [
    "## <font color = \"black\">Step 10. Plot the correlation matrix using seaborn's heatmap().</font>"
   ]
  },
  {
   "cell_type": "code",
   "execution_count": null,
   "id": "b4b76c85",
   "metadata": {},
   "outputs": [],
   "source": []
  }
 ],
 "metadata": {
  "kernelspec": {
   "display_name": "Python 3 (ipykernel)",
   "language": "python",
   "name": "python3"
  },
  "language_info": {
   "codemirror_mode": {
    "name": "ipython",
    "version": 3
   },
   "file_extension": ".py",
   "mimetype": "text/x-python",
   "name": "python",
   "nbconvert_exporter": "python",
   "pygments_lexer": "ipython3",
   "version": "3.10.5"
  }
 },
 "nbformat": 4,
 "nbformat_minor": 5
}
